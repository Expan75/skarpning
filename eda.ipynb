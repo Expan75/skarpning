{
 "cells": [
  {
   "cell_type": "code",
   "execution_count": 2,
   "metadata": {},
   "outputs": [],
   "source": [
    "import pandas as pd\n",
    "import numpy as np\n",
    "\n",
    "# cols\n",
    "names = [\"period\",\"code\",\"doc_id\",\"idk\",\"name\",\"uid\",\"party\",\"region\",\"vote\",\"type\",\"number2\",\"sex\",\"year_of_birth\",\"date\"]\n",
    "\n",
    "# read data\n",
    "votes = pd.read_csv(\"data/votering-201920.csv\", names=names)"
   ]
  },
  {
   "cell_type": "code",
   "execution_count": 3,
   "metadata": {},
   "outputs": [
    {
     "data": {
      "text/html": [
       "<div>\n",
       "<style scoped>\n",
       "    .dataframe tbody tr th:only-of-type {\n",
       "        vertical-align: middle;\n",
       "    }\n",
       "\n",
       "    .dataframe tbody tr th {\n",
       "        vertical-align: top;\n",
       "    }\n",
       "\n",
       "    .dataframe thead th {\n",
       "        text-align: right;\n",
       "    }\n",
       "</style>\n",
       "<table border=\"1\" class=\"dataframe\">\n",
       "  <thead>\n",
       "    <tr style=\"text-align: right;\">\n",
       "      <th></th>\n",
       "      <th>period</th>\n",
       "      <th>code</th>\n",
       "      <th>doc_id</th>\n",
       "      <th>idk</th>\n",
       "      <th>name</th>\n",
       "      <th>uid</th>\n",
       "      <th>party</th>\n",
       "      <th>region</th>\n",
       "      <th>vote</th>\n",
       "      <th>type</th>\n",
       "      <th>number2</th>\n",
       "      <th>sex</th>\n",
       "      <th>year_of_birth</th>\n",
       "      <th>date</th>\n",
       "    </tr>\n",
       "  </thead>\n",
       "  <tbody>\n",
       "    <tr>\n",
       "      <td>0</td>\n",
       "      <td>2019/20</td>\n",
       "      <td>CU5</td>\n",
       "      <td>0027A0A4-925A-4E95-9ECC-0D6EDFC4A5DD</td>\n",
       "      <td>1</td>\n",
       "      <td>Anders Hansson</td>\n",
       "      <td>843345349823</td>\n",
       "      <td>M</td>\n",
       "      <td>Skåne läns södra</td>\n",
       "      <td>Ja</td>\n",
       "      <td>sakfrågan</td>\n",
       "      <td>16</td>\n",
       "      <td>man</td>\n",
       "      <td>1976</td>\n",
       "      <td>2019-11-28</td>\n",
       "    </tr>\n",
       "  </tbody>\n",
       "</table>\n",
       "</div>"
      ],
      "text/plain": [
       "    period code                                doc_id  idk            name  \\\n",
       "0  2019/20  CU5  0027A0A4-925A-4E95-9ECC-0D6EDFC4A5DD    1  Anders Hansson   \n",
       "\n",
       "            uid party            region vote       type  number2  sex  \\\n",
       "0  843345349823     M  Skåne läns södra   Ja  sakfrågan       16  man   \n",
       "\n",
       "   year_of_birth        date  \n",
       "0           1976  2019-11-28  "
      ]
     },
     "execution_count": 3,
     "metadata": {},
     "output_type": "execute_result"
    }
   ],
   "source": [
    "votes.head(1)"
   ]
  },
  {
   "cell_type": "code",
   "execution_count": 4,
   "metadata": {},
   "outputs": [
    {
     "name": "stdout",
     "output_type": "stream",
     "text": [
      "(371,)\n"
     ]
    }
   ],
   "source": [
    "ledamoter = votes.name.unique()\n",
    "print(ledamoter.shape)\n"
   ]
  },
  {
   "cell_type": "code",
   "execution_count": 5,
   "metadata": {},
   "outputs": [
    {
     "data": {
      "text/plain": [
       "Frånvarande    92819\n",
       "Ja             57243\n",
       "Nej            18121\n",
       "Avstår          9109\n",
       "Name: vote, dtype: int64"
      ]
     },
     "execution_count": 5,
     "metadata": {},
     "output_type": "execute_result"
    }
   ],
   "source": [
    "votes.vote.value_counts()"
   ]
  },
  {
   "cell_type": "code",
   "execution_count": 6,
   "metadata": {},
   "outputs": [],
   "source": [
    "votespp = votes.groupby(votes.name).vote.value_counts()"
   ]
  },
  {
   "cell_type": "code",
   "execution_count": 7,
   "metadata": {},
   "outputs": [
    {
     "data": {
      "text/plain": [
       "MultiIndex([('Acko Ankarberg Johansson', 'Frånvarande'),\n",
       "            ('Acko Ankarberg Johansson',          'Ja'),\n",
       "            ('Acko Ankarberg Johansson',         'Nej')],\n",
       "           names=['name', 'vote'])"
      ]
     },
     "execution_count": 7,
     "metadata": {},
     "output_type": "execute_result"
    }
   ],
   "source": [
    "votespp.index[0:3]"
   ]
  },
  {
   "cell_type": "code",
   "execution_count": 8,
   "metadata": {},
   "outputs": [
    {
     "data": {
      "text/html": [
       "<div>\n",
       "<style scoped>\n",
       "    .dataframe tbody tr th:only-of-type {\n",
       "        vertical-align: middle;\n",
       "    }\n",
       "\n",
       "    .dataframe tbody tr th {\n",
       "        vertical-align: top;\n",
       "    }\n",
       "\n",
       "    .dataframe thead th {\n",
       "        text-align: right;\n",
       "    }\n",
       "</style>\n",
       "<table border=\"1\" class=\"dataframe\">\n",
       "  <thead>\n",
       "    <tr style=\"text-align: right;\">\n",
       "      <th></th>\n",
       "      <th>frånvarande</th>\n",
       "      <th>ja</th>\n",
       "      <th>nej</th>\n",
       "      <th>avstår</th>\n",
       "    </tr>\n",
       "  </thead>\n",
       "  <tbody>\n",
       "    <tr>\n",
       "      <td>anders hansson</td>\n",
       "      <td>NaN</td>\n",
       "      <td>NaN</td>\n",
       "      <td>NaN</td>\n",
       "      <td>NaN</td>\n",
       "    </tr>\n",
       "    <tr>\n",
       "      <td>pyry niemi</td>\n",
       "      <td>NaN</td>\n",
       "      <td>NaN</td>\n",
       "      <td>NaN</td>\n",
       "      <td>NaN</td>\n",
       "    </tr>\n",
       "    <tr>\n",
       "      <td>staffan eklöf</td>\n",
       "      <td>NaN</td>\n",
       "      <td>NaN</td>\n",
       "      <td>NaN</td>\n",
       "      <td>NaN</td>\n",
       "    </tr>\n",
       "    <tr>\n",
       "      <td>emil källström</td>\n",
       "      <td>NaN</td>\n",
       "      <td>NaN</td>\n",
       "      <td>NaN</td>\n",
       "      <td>NaN</td>\n",
       "    </tr>\n",
       "    <tr>\n",
       "      <td>robert stenkvist</td>\n",
       "      <td>NaN</td>\n",
       "      <td>NaN</td>\n",
       "      <td>NaN</td>\n",
       "      <td>NaN</td>\n",
       "    </tr>\n",
       "    <tr>\n",
       "      <td>...</td>\n",
       "      <td>...</td>\n",
       "      <td>...</td>\n",
       "      <td>...</td>\n",
       "      <td>...</td>\n",
       "    </tr>\n",
       "    <tr>\n",
       "      <td>sanne lennström</td>\n",
       "      <td>NaN</td>\n",
       "      <td>NaN</td>\n",
       "      <td>NaN</td>\n",
       "      <td>NaN</td>\n",
       "    </tr>\n",
       "    <tr>\n",
       "      <td>marcus jonsson</td>\n",
       "      <td>NaN</td>\n",
       "      <td>NaN</td>\n",
       "      <td>NaN</td>\n",
       "      <td>NaN</td>\n",
       "    </tr>\n",
       "    <tr>\n",
       "      <td>jan björklund</td>\n",
       "      <td>NaN</td>\n",
       "      <td>NaN</td>\n",
       "      <td>NaN</td>\n",
       "      <td>NaN</td>\n",
       "    </tr>\n",
       "    <tr>\n",
       "      <td>jonas eriksson</td>\n",
       "      <td>NaN</td>\n",
       "      <td>NaN</td>\n",
       "      <td>NaN</td>\n",
       "      <td>NaN</td>\n",
       "    </tr>\n",
       "    <tr>\n",
       "      <td>lena emilsson</td>\n",
       "      <td>NaN</td>\n",
       "      <td>NaN</td>\n",
       "      <td>NaN</td>\n",
       "      <td>NaN</td>\n",
       "    </tr>\n",
       "  </tbody>\n",
       "</table>\n",
       "<p>371 rows × 4 columns</p>\n",
       "</div>"
      ],
      "text/plain": [
       "                 frånvarande   ja  nej avstår\n",
       "anders hansson           NaN  NaN  NaN    NaN\n",
       "pyry niemi               NaN  NaN  NaN    NaN\n",
       "staffan eklöf            NaN  NaN  NaN    NaN\n",
       "emil källström           NaN  NaN  NaN    NaN\n",
       "robert stenkvist         NaN  NaN  NaN    NaN\n",
       "...                      ...  ...  ...    ...\n",
       "sanne lennström          NaN  NaN  NaN    NaN\n",
       "marcus jonsson           NaN  NaN  NaN    NaN\n",
       "jan björklund            NaN  NaN  NaN    NaN\n",
       "jonas eriksson           NaN  NaN  NaN    NaN\n",
       "lena emilsson            NaN  NaN  NaN    NaN\n",
       "\n",
       "[371 rows x 4 columns]"
      ]
     },
     "execution_count": 8,
     "metadata": {},
     "output_type": "execute_result"
    }
   ],
   "source": [
    "# Construct new df and populate with above data\n",
    "columns = [\"frånvarande\", \"ja\", \"nej\", \"avstår\"]\n",
    "lowerledamoter = [name.lower() for name in votes.name.unique().tolist()]\n",
    "\n",
    "counts_df = pd.DataFrame(index=lowerledamoter, columns=columns)\n",
    "counts_df"
   ]
  },
  {
   "cell_type": "code",
   "execution_count": 9,
   "metadata": {},
   "outputs": [
    {
     "name": "stdout",
     "output_type": "stream",
     "text": [
      "<class 'str'> <class 'str'> <class 'int'>\n"
     ]
    },
    {
     "data": {
      "text/plain": [
       "('acko ankarberg johansson', 'frånvarande', 292)"
      ]
     },
     "execution_count": 9,
     "metadata": {},
     "output_type": "execute_result"
    }
   ],
   "source": [
    "# TEST\n",
    "index = votespp.index[0]\n",
    "mp = index[0].lower()\n",
    "col = index[1].lower()\n",
    "value =  votespp[index]\n",
    "\n",
    "print(type(mp), type(col), type(int(value)))\n",
    "mp, col, value"
   ]
  },
  {
   "cell_type": "code",
   "execution_count": 10,
   "metadata": {},
   "outputs": [],
   "source": [
    "# Populate above df\n",
    "for index in votespp.index:\n",
    "    mp, col = [value.lower() for value in index]\n",
    "    value = int(votespp[index])\n",
    "    \n",
    "    counts_df.loc[mp][col] = value\n",
    "    # print(f\"inserting at \\n row id: { mp } \\n column: {col} \\n with value: {value}\")"
   ]
  },
  {
   "cell_type": "code",
   "execution_count": 11,
   "metadata": {},
   "outputs": [
    {
     "data": {
      "text/html": [
       "<div>\n",
       "<style scoped>\n",
       "    .dataframe tbody tr th:only-of-type {\n",
       "        vertical-align: middle;\n",
       "    }\n",
       "\n",
       "    .dataframe tbody tr th {\n",
       "        vertical-align: top;\n",
       "    }\n",
       "\n",
       "    .dataframe thead th {\n",
       "        text-align: right;\n",
       "    }\n",
       "</style>\n",
       "<table border=\"1\" class=\"dataframe\">\n",
       "  <thead>\n",
       "    <tr style=\"text-align: right;\">\n",
       "      <th></th>\n",
       "      <th>frånvarande</th>\n",
       "      <th>ja</th>\n",
       "      <th>nej</th>\n",
       "      <th>avstår</th>\n",
       "    </tr>\n",
       "  </thead>\n",
       "  <tbody>\n",
       "    <tr>\n",
       "      <td>anders hansson</td>\n",
       "      <td>257</td>\n",
       "      <td>123</td>\n",
       "      <td>85</td>\n",
       "      <td>43</td>\n",
       "    </tr>\n",
       "    <tr>\n",
       "      <td>pyry niemi</td>\n",
       "      <td>191</td>\n",
       "      <td>291</td>\n",
       "      <td>26</td>\n",
       "      <td>NaN</td>\n",
       "    </tr>\n",
       "    <tr>\n",
       "      <td>staffan eklöf</td>\n",
       "      <td>295</td>\n",
       "      <td>89</td>\n",
       "      <td>81</td>\n",
       "      <td>43</td>\n",
       "    </tr>\n",
       "    <tr>\n",
       "      <td>emil källström</td>\n",
       "      <td>306</td>\n",
       "      <td>153</td>\n",
       "      <td>34</td>\n",
       "      <td>15</td>\n",
       "    </tr>\n",
       "    <tr>\n",
       "      <td>robert stenkvist</td>\n",
       "      <td>169</td>\n",
       "      <td>152</td>\n",
       "      <td>122</td>\n",
       "      <td>65</td>\n",
       "    </tr>\n",
       "  </tbody>\n",
       "</table>\n",
       "</div>"
      ],
      "text/plain": [
       "                 frånvarande   ja  nej avstår\n",
       "anders hansson           257  123   85     43\n",
       "pyry niemi               191  291   26    NaN\n",
       "staffan eklöf            295   89   81     43\n",
       "emil källström           306  153   34     15\n",
       "robert stenkvist         169  152  122     65"
      ]
     },
     "execution_count": 11,
     "metadata": {},
     "output_type": "execute_result"
    }
   ],
   "source": [
    "# visualise\n",
    "counts_df.head()"
   ]
  },
  {
   "cell_type": "code",
   "execution_count": 12,
   "metadata": {},
   "outputs": [
    {
     "data": {
      "text/plain": [
       "jonas andersson                581\n",
       "mattias karlsson               533\n",
       "thomas hammarberg              417\n",
       "ulf kristersson                412\n",
       "jimmie åkesson                 402\n",
       "                              ... \n",
       "jan r andersson                  7\n",
       "maria arnholm                    2\n",
       "linda ylivainio                  1\n",
       "marcus jonsson                   1\n",
       "andreas lennkvist manriquez      1\n",
       "Name: frånvarande, Length: 364, dtype: object"
      ]
     },
     "execution_count": 12,
     "metadata": {},
     "output_type": "execute_result"
    }
   ],
   "source": [
    "counts_df.frånvarande.dropna().sort_values(ascending=False)"
   ]
  },
  {
   "cell_type": "code",
   "execution_count": 14,
   "metadata": {},
   "outputs": [],
   "source": [
    "counts_df.to_csv(\"data/counts.csv\", header=[\"frånvarande\", \"ja\", \"nej\", \"avstår\"])"
   ]
  },
  {
   "cell_type": "code",
   "execution_count": null,
   "metadata": {},
   "outputs": [],
   "source": []
  }
 ],
 "metadata": {
  "kernelspec": {
   "display_name": "Python 3.7.4 64-bit ('base': conda)",
   "language": "python",
   "name": "python37464bitbaseconda34a594d57612426da6755a3bf21dcdd5"
  },
  "language_info": {
   "codemirror_mode": {
    "name": "ipython",
    "version": 3
   },
   "file_extension": ".py",
   "mimetype": "text/x-python",
   "name": "python",
   "nbconvert_exporter": "python",
   "pygments_lexer": "ipython3",
   "version": "3.7.4"
  }
 },
 "nbformat": 4,
 "nbformat_minor": 2
}
